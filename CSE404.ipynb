{
  "nbformat": 4,
  "nbformat_minor": 0,
  "metadata": {
    "colab": {
      "provenance": []
    },
    "kernelspec": {
      "name": "python3",
      "display_name": "Python 3"
    },
    "language_info": {
      "name": "python"
    }
  },
  "cells": [
    {
      "cell_type": "code",
      "source": [
        "# !tar -xf ytcelebrity.tar\n",
        "# !mv *.avi ytcelebrity/"
      ],
      "metadata": {
        "id": "UCfsgvDR0cd6"
      },
      "execution_count": 11,
      "outputs": []
    },
    {
      "cell_type": "code",
      "execution_count": 12,
      "metadata": {
        "id": "PRf1Ri1SE-5z"
      },
      "outputs": [],
      "source": [
        "import cv2\n",
        "import os\n",
        "import csv\n",
        "import torch\n",
        "import torch.optim as optim\n",
        "from torch.utils.data import DataLoader\n",
        "from torch.utils.data import Dataset\n",
        "\n",
        "## Save frames from video\n",
        "def save_frames(root, file, output_dir):\n",
        "    name = file.split(\".\")[0]\n",
        "    if not os.path.exists(output_dir + file):\n",
        "        os.makedirs(output_dir + file)\n",
        "    video = cv2.VideoCapture(root+file)\n",
        "    if not video.isOpened():\n",
        "        raise Exception(\"Could not open video\")\n",
        "    success,image = video.read()\n",
        "    count = 0\n",
        "    while success:\n",
        "        output_file = output_dir + file + \"/{count}.jpg\"\n",
        "        if not cv2.imwrite(output_file, image):\n",
        "            raise Exception(\"Could not write image\")\n",
        "        success,image = video.read()\n",
        "        count += 1\n",
        "        \n",
        "## Get frames from video\n",
        "def get_frames(root, file):\n",
        "    frames = [] \n",
        "    video = cv2.VideoCapture(root+file)\n",
        "    if not video.isOpened():\n",
        "        raise Exception(\"Could not open video\")\n",
        "    success,image = video.read()\n",
        "    while success:\n",
        "        frames.append(image)\n",
        "        success,image = video.read()\n",
        "    return frames\n"
      ]
    },
    {
      "cell_type": "code",
      "source": [
        "## Dataset for YTCelebrity dataset\n",
        "class YTCelebrityDataset(Dataset):\n",
        "    def __init__(self, dataset_path, csv_path):\n",
        "        self.root = dataset_path\n",
        "        self.data = []\n",
        "        self.label = dict()\n",
        "        self.file = dict()\n",
        "        for file_name in os.listdir(dataset_path):\n",
        "            file = file_name.split(\".\")[0]\n",
        "            _, video_id, clip_id, first_name, last_name = file.split(\"_\")\n",
        "            file = \"_\".join([first_name, last_name, video_id, clip_id])\n",
        "            self.data.append(file)\n",
        "            self.file[file] = file_name\n",
        "\n",
        "        with open (csv_path) as f:\n",
        "            reader = csv.reader(f)\n",
        "            row = next(reader)\n",
        "            for row in reader:\n",
        "                name, label = row[0].split(\".\")[0], row[1:]\n",
        "                _, first_name, last_name, video_id, clip_id = name.split(\"_\")\n",
        "                self.label[\"_\".join([first_name, last_name, video_id, clip_id])] = label\n",
        "        \n",
        "    def __len__(self):\n",
        "        return len(self.data)\n",
        "\n",
        "    def __getitem__(self, idx):\n",
        "        frames = get_frames(self.root, self.file[self.data[idx]])\n",
        "        label = self.label[self.data[idx]]\n",
        "        return frames, label\n"
      ],
      "metadata": {
        "id": "S7ij6EDkFHBP"
      },
      "execution_count": 13,
      "outputs": []
    },
    {
      "cell_type": "code",
      "source": [
        "import torch\n",
        "import torch.nn as nn\n",
        "import torch.nn.functional as F\n",
        "\n",
        "class Model(nn.Module):\n",
        "    def __init__(self):\n",
        "        super(Model, self).__init__()\n",
        "        \n",
        "    def forward(self, x):\n",
        "        return x\n",
        "    \n",
        "def train(model, device, train_loader, optimizer, i):\n",
        "    model.train()\n",
        "    print(i)\n",
        "          \n",
        "def test(model, device, test_loader):\n",
        "    model.eval()"
      ],
      "metadata": {
        "id": "8uFdmsioFX0_"
      },
      "execution_count": 14,
      "outputs": []
    },
    {
      "cell_type": "code",
      "source": [
        "root = \"ytcelebrity/\"\n",
        "csv_path = \"celebrity.csv\"\n",
        "device = torch.device(\"cuda\" if torch.cuda.is_available() else \"cpu\")\n",
        "learning_rate = 0.001\n",
        "epoch = 10\n",
        "\n",
        "def main():\n",
        "    dataset = YTCelebrityDataset(root, csv_path)\n",
        "\n",
        "    generator = torch.Generator().manual_seed(42)\n",
        "    training, testing = torch.utils.data.random_split(dataset, [0.7, 0.3], generator=generator)\n",
        "\n",
        "    train_loader = DataLoader(training, batch_size=4, shuffle=True, num_workers=4)\n",
        "    test_loader = DataLoader(testing, batch_size=4, shuffle=True, num_workers=4)\n",
        "\n",
        "    # model = Model().to(device)\n",
        "    # optimizer = optim.SGD(model.parameters(), lr=learning_rate)\n",
        "    \n",
        "    # train(model, device, train_loader, optimizer, epoch)\n",
        "\n",
        "    # test(model, device, test_loader)\n",
        "\n",
        "main()"
      ],
      "metadata": {
        "id": "wOhEtmH5FI71"
      },
      "execution_count": 16,
      "outputs": []
    }
  ]
}